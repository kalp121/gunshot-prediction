{
 "cells": [
  {
   "cell_type": "code",
   "execution_count": 15,
   "metadata": {
    "colab": {},
    "colab_type": "code",
    "id": "tA_zGJTRf_gC"
   },
   "outputs": [],
   "source": [
    "import numpy as np\n"
   ]
  },
  {
   "cell_type": "code",
   "execution_count": 2,
   "metadata": {
    "colab": {},
    "colab_type": "code",
    "id": "5uRr-bWZWzAD"
   },
   "outputs": [],
   "source": [
    "#extracting data from csv files into numpy arrays\n",
    "from numpy import genfromtxt\n",
    "x_train = genfromtxt('train_data.csv', delimiter=',')\n",
    "y_train = genfromtxt('train_labels.csv', delimiter=',')\n",
    "x_test = genfromtxt('test_data.csv', delimiter=',')\n",
    "y_test = genfromtxt('test_labels.csv', delimiter=',')"
   ]
  },
  {
   "cell_type": "code",
   "execution_count": 3,
   "metadata": {
    "colab": {
     "base_uri": "https://localhost:8080/",
     "height": 34
    },
    "colab_type": "code",
    "id": "sUE1btJWW3bw",
    "outputId": "f74bc8b1-fee5-4efd-b851-b2337f69afb9"
   },
   "outputs": [
    {
     "data": {
      "text/plain": [
       "((7895, 40), (837, 40), (7895,), (837,))"
      ]
     },
     "execution_count": 3,
     "metadata": {},
     "output_type": "execute_result"
    }
   ],
   "source": [
    "#shape\n",
    "x_train.shape,x_test.shape,y_train.shape,y_test.shape"
   ]
  },
  {
   "cell_type": "code",
   "execution_count": 4,
   "metadata": {
    "colab": {
     "base_uri": "https://localhost:8080/",
     "height": 34
    },
    "colab_type": "code",
    "id": "UDbtZ-GaXEXS",
    "outputId": "50df72f3-2b7e-45b7-ea23-80e5aaca1743"
   },
   "outputs": [
    {
     "name": "stderr",
     "output_type": "stream",
     "text": [
      "Using TensorFlow backend.\n"
     ]
    },
    {
     "data": {
      "text/plain": [
       "((7895, 10), (837, 10))"
      ]
     },
     "execution_count": 4,
     "metadata": {},
     "output_type": "execute_result"
    }
   ],
   "source": [
    "#converting to one hot\n",
    "from keras.utils.np_utils import to_categorical\n",
    "y_train = to_categorical(y_train, num_classes=10)\n",
    "y_test = to_categorical(y_test, num_classes=10)\n",
    "y_train.shape,y_test.shape"
   ]
  },
  {
   "cell_type": "code",
   "execution_count": 5,
   "metadata": {
    "colab": {
     "base_uri": "https://localhost:8080/",
     "height": 34
    },
    "colab_type": "code",
    "id": "Q53NwQLeYJSf",
    "outputId": "b4359c57-b041-4e06-e40f-c671eb33a882"
   },
   "outputs": [
    {
     "data": {
      "text/plain": [
       "((7895, 40, 1), (837, 40, 1))"
      ]
     },
     "execution_count": 5,
     "metadata": {},
     "output_type": "execute_result"
    }
   ],
   "source": [
    "#reshaping to 2D \n",
    "x_train=np.reshape(x_train,(x_train.shape[0], 40,1))\n",
    "x_test=np.reshape(x_test,(x_test.shape[0], 40,1))\n",
    "x_train.shape,x_test.shape"
   ]
  },
  {
   "cell_type": "code",
   "execution_count": 6,
   "metadata": {
    "colab": {},
    "colab_type": "code",
    "id": "15K2y9sUgn_L"
   },
   "outputs": [],
   "source": [
    "#reshaping to shape required by CNN\n",
    "x_train=np.reshape(x_train,(x_train.shape[0], 40,1,1))\n",
    "x_test=np.reshape(x_test,(x_test.shape[0], 40,1,1))"
   ]
  },
  {
   "cell_type": "code",
   "execution_count": 7,
   "metadata": {
    "colab": {
     "base_uri": "https://localhost:8080/",
     "height": 34
    },
    "colab_type": "code",
    "id": "CgeQAvcdgtwn",
    "outputId": "fb3d635b-1da0-4c3d-f17f-50c9619cf9da"
   },
   "outputs": [
    {
     "data": {
      "text/plain": [
       "((7895, 40, 1, 1), (837, 40, 1, 1))"
      ]
     },
     "execution_count": 7,
     "metadata": {},
     "output_type": "execute_result"
    }
   ],
   "source": [
    "#shapes\n",
    "x_train.shape,x_test.shape"
   ]
  },
  {
   "cell_type": "code",
   "execution_count": 9,
   "metadata": {
    "colab": {},
    "colab_type": "code",
    "id": "3bQ2gHc8f9n4"
   },
   "outputs": [],
   "source": [
    "from keras import Sequential\n",
    "from keras.layers import Dense,Conv2D,MaxPooling2D,Flatten,Dropout"
   ]
  },
  {
   "cell_type": "code",
   "execution_count": 10,
   "metadata": {
    "colab": {},
    "colab_type": "code",
    "id": "SyjNa0N0gGlY"
   },
   "outputs": [],
   "source": [
    "#forming model\n",
    "model=Sequential()"
   ]
  },
  {
   "cell_type": "code",
   "execution_count": 11,
   "metadata": {
    "colab": {},
    "colab_type": "code",
    "id": "fUJUiyVTgkGZ"
   },
   "outputs": [],
   "source": [
    "#adding layers and forming the model\n",
    "model.add(Conv2D(64,kernel_size=5,strides=1,padding=\"Same\",activation=\"relu\",input_shape=(40,1,1)))\n",
    "model.add(MaxPooling2D(padding=\"same\"))\n",
    "\n",
    "model.add(Conv2D(128,kernel_size=5,strides=1,padding=\"same\",activation=\"relu\"))\n",
    "model.add(MaxPooling2D(padding=\"same\"))\n",
    "model.add(Dropout(0.3))\n",
    "\n",
    "model.add(Flatten())\n",
    "\n",
    "model.add(Dense(256,activation=\"relu\"))\n",
    "model.add(Dropout(0.3))\n",
    "\n",
    "model.add(Dense(512,activation=\"relu\"))\n",
    "model.add(Dropout(0.3))\n",
    "\n",
    "model.add(Dense(10,activation=\"softmax\"))"
   ]
  },
  {
   "cell_type": "code",
   "execution_count": 12,
   "metadata": {
    "colab": {},
    "colab_type": "code",
    "id": "ZHek_bnng3xp"
   },
   "outputs": [],
   "source": [
    "#compiling\n",
    "model.compile(optimizer=\"adam\",loss=\"categorical_crossentropy\",metrics=[\"accuracy\"])"
   ]
  },
  {
   "cell_type": "code",
   "execution_count": 13,
   "metadata": {
    "colab": {
     "base_uri": "https://localhost:8080/",
     "height": 1091
    },
    "colab_type": "code",
    "id": "Hc_E0cTog96t",
    "outputId": "4fb76b2e-08bc-4a38-d574-79490df067f5"
   },
   "outputs": [
    {
     "name": "stdout",
     "output_type": "stream",
     "text": [
      "Train on 7895 samples, validate on 837 samples\n",
      "Epoch 1/30\n",
      "7895/7895 [==============================] - 14s 2ms/step - loss: 1.6983 - accuracy: 0.3954 - val_loss: 1.3913 - val_accuracy: 0.5651\n",
      "Epoch 2/30\n",
      "7895/7895 [==============================] - 3s 386us/step - loss: 1.1361 - accuracy: 0.6149 - val_loss: 1.2949 - val_accuracy: 0.5699\n",
      "Epoch 3/30\n",
      "7895/7895 [==============================] - 3s 392us/step - loss: 0.8836 - accuracy: 0.7035 - val_loss: 1.1710 - val_accuracy: 0.6033\n",
      "Epoch 4/30\n",
      "7895/7895 [==============================] - 3s 387us/step - loss: 0.7152 - accuracy: 0.7634 - val_loss: 1.2831 - val_accuracy: 0.5914\n",
      "Epoch 5/30\n",
      "7895/7895 [==============================] - 3s 393us/step - loss: 0.6025 - accuracy: 0.7966 - val_loss: 1.2294 - val_accuracy: 0.6069\n",
      "Epoch 6/30\n",
      "7895/7895 [==============================] - 3s 396us/step - loss: 0.5394 - accuracy: 0.8198 - val_loss: 1.3128 - val_accuracy: 0.5783\n",
      "Epoch 7/30\n",
      "7895/7895 [==============================] - 3s 394us/step - loss: 0.4713 - accuracy: 0.8409 - val_loss: 1.4350 - val_accuracy: 0.5603\n",
      "Epoch 8/30\n",
      "7895/7895 [==============================] - 3s 401us/step - loss: 0.4074 - accuracy: 0.8597 - val_loss: 1.3912 - val_accuracy: 0.6153\n",
      "Epoch 9/30\n",
      "7895/7895 [==============================] - 3s 397us/step - loss: 0.3880 - accuracy: 0.8699 - val_loss: 1.5429 - val_accuracy: 0.5591\n",
      "Epoch 10/30\n",
      "7895/7895 [==============================] - 3s 401us/step - loss: 0.3370 - accuracy: 0.8849 - val_loss: 1.4917 - val_accuracy: 0.5627\n",
      "Epoch 11/30\n",
      "7895/7895 [==============================] - 3s 396us/step - loss: 0.3115 - accuracy: 0.8875 - val_loss: 1.4713 - val_accuracy: 0.6141\n",
      "Epoch 12/30\n",
      "7895/7895 [==============================] - 3s 394us/step - loss: 0.3131 - accuracy: 0.8906 - val_loss: 1.6613 - val_accuracy: 0.5866\n",
      "Epoch 13/30\n",
      "7895/7895 [==============================] - 3s 395us/step - loss: 0.3019 - accuracy: 0.9011 - val_loss: 1.5938 - val_accuracy: 0.5663\n",
      "Epoch 14/30\n",
      "7895/7895 [==============================] - 3s 396us/step - loss: 0.2748 - accuracy: 0.9088 - val_loss: 1.6977 - val_accuracy: 0.6022\n",
      "Epoch 15/30\n",
      "7895/7895 [==============================] - 3s 395us/step - loss: 0.2274 - accuracy: 0.9239 - val_loss: 1.7324 - val_accuracy: 0.6249\n",
      "Epoch 16/30\n",
      "7895/7895 [==============================] - 3s 400us/step - loss: 0.2333 - accuracy: 0.9216 - val_loss: 1.5753 - val_accuracy: 0.6177\n",
      "Epoch 17/30\n",
      "7895/7895 [==============================] - 3s 398us/step - loss: 0.2215 - accuracy: 0.9258 - val_loss: 1.7515 - val_accuracy: 0.5926\n",
      "Epoch 18/30\n",
      "7895/7895 [==============================] - 3s 378us/step - loss: 0.2058 - accuracy: 0.9300 - val_loss: 1.6284 - val_accuracy: 0.6464\n",
      "Epoch 19/30\n",
      "7895/7895 [==============================] - 3s 430us/step - loss: 0.2021 - accuracy: 0.9317 - val_loss: 1.6547 - val_accuracy: 0.6225\n",
      "Epoch 20/30\n",
      "7895/7895 [==============================] - 3s 430us/step - loss: 0.1768 - accuracy: 0.9398 - val_loss: 1.6858 - val_accuracy: 0.6213\n",
      "Epoch 21/30\n",
      "7895/7895 [==============================] - 3s 430us/step - loss: 0.1943 - accuracy: 0.9341 - val_loss: 1.7014 - val_accuracy: 0.6081\n",
      "Epoch 22/30\n",
      "7895/7895 [==============================] - 3s 432us/step - loss: 0.1659 - accuracy: 0.9450 - val_loss: 1.8743 - val_accuracy: 0.5914\n",
      "Epoch 23/30\n",
      "7895/7895 [==============================] - 3s 379us/step - loss: 0.1667 - accuracy: 0.9449 - val_loss: 1.7740 - val_accuracy: 0.5998\n",
      "Epoch 24/30\n",
      "7895/7895 [==============================] - 3s 394us/step - loss: 0.1891 - accuracy: 0.9387 - val_loss: 1.9523 - val_accuracy: 0.6010\n",
      "Epoch 25/30\n",
      "7895/7895 [==============================] - 3s 430us/step - loss: 0.1793 - accuracy: 0.9398 - val_loss: 1.9805 - val_accuracy: 0.5830\n",
      "Epoch 26/30\n",
      "7895/7895 [==============================] - 3s 428us/step - loss: 0.1646 - accuracy: 0.9426 - val_loss: 1.8091 - val_accuracy: 0.6057\n",
      "Epoch 27/30\n",
      "7895/7895 [==============================] - 3s 350us/step - loss: 0.1654 - accuracy: 0.9454 - val_loss: 2.1010 - val_accuracy: 0.5795\n",
      "Epoch 28/30\n",
      "7895/7895 [==============================] - 3s 400us/step - loss: 0.1583 - accuracy: 0.9487 - val_loss: 1.7782 - val_accuracy: 0.6093\n",
      "Epoch 29/30\n",
      "7895/7895 [==============================] - 3s 388us/step - loss: 0.1625 - accuracy: 0.9454 - val_loss: 1.7495 - val_accuracy: 0.6189\n",
      "Epoch 30/30\n",
      "7895/7895 [==============================] - 3s 362us/step - loss: 0.1671 - accuracy: 0.9450 - val_loss: 1.7942 - val_accuracy: 0.6272\n"
     ]
    },
    {
     "data": {
      "text/plain": [
       "<keras.callbacks.callbacks.History at 0x22bee798fc8>"
      ]
     },
     "execution_count": 13,
     "metadata": {},
     "output_type": "execute_result"
    }
   ],
   "source": [
    "#training the model\n",
    "model.fit(x_train,y_train,batch_size=50,epochs=30,validation_data=(x_test,y_test))"
   ]
  },
  {
   "cell_type": "code",
   "execution_count": 14,
   "metadata": {},
   "outputs": [],
   "source": [
    "model.save('model.h5')"
   ]
  },
  {
   "cell_type": "code",
   "execution_count": 16,
   "metadata": {},
   "outputs": [],
   "source": [
    "from keras.models import load_model\n",
    "model=load_model('model.h5')"
   ]
  },
  {
   "cell_type": "code",
   "execution_count": 27,
   "metadata": {},
   "outputs": [
    {
     "name": "stdout",
     "output_type": "stream",
     "text": [
      "[[1.3584605e-09 4.1120543e-07 1.2475529e-02 8.8676596e-01 9.0955332e-02\n",
      "  3.9202168e-06 9.7924899e-03 5.3553049e-07 4.9700448e-06 8.7956198e-07]]\n",
      "[0. 0. 1. 0. 0. 0. 0. 0. 0. 0.]\n"
     ]
    }
   ],
   "source": [
    "test=x_test[9]\n",
    "test=np.reshape(test,(1, 40,1,1))\n",
    "test.shape\n",
    "print(model.predict(test))\n",
    "print(y_test[9])"
   ]
  },
  {
   "cell_type": "code",
   "execution_count": 17,
   "metadata": {
    "colab": {
     "base_uri": "https://localhost:8080/",
     "height": 85
    },
    "colab_type": "code",
    "id": "N1Rp9FTYhBpZ",
    "outputId": "8ac2e5be-314a-4284-ea31-ddbfeda1d4de"
   },
   "outputs": [
    {
     "name": "stdout",
     "output_type": "stream",
     "text": [
      "7895/7895 [==============================] - 4s 534us/step\n",
      "837/837 [==============================] - 1s 780us/step\n",
      "[0.024144646220796675, 0.9948068261146545]\n",
      "[1.7942074464640736, 0.6272401213645935]\n"
     ]
    }
   ],
   "source": [
    "model\n",
    "#train and test loss and scores respectively\n",
    "train_loss_score=model.evaluate(x_train,y_train)\n",
    "test_loss_score=model.evaluate(x_test,y_test)\n",
    "print(train_loss_score)\n",
    "print(test_loss_score)"
   ]
  }
 ],
 "metadata": {
  "accelerator": "GPU",
  "colab": {
   "collapsed_sections": [],
   "name": "Urban_cnn_model.ipynb",
   "provenance": [],
   "version": "0.3.2"
  },
  "kernelspec": {
   "display_name": "Python 3",
   "language": "python",
   "name": "python3"
  },
  "language_info": {
   "codemirror_mode": {
    "name": "ipython",
    "version": 3
   },
   "file_extension": ".py",
   "mimetype": "text/x-python",
   "name": "python",
   "nbconvert_exporter": "python",
   "pygments_lexer": "ipython3",
   "version": "3.7.4"
  }
 },
 "nbformat": 4,
 "nbformat_minor": 1
}
